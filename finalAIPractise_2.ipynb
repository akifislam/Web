{
  "cells": [
    {
      "cell_type": "markdown",
      "metadata": {
        "id": "wGsIf-rpmDA6"
      },
      "source": [
        "# Load Data, Split and Display"
      ]
    },
    {
      "cell_type": "code",
      "execution_count": 80,
      "metadata": {
        "id": "CrydFhbMly-Y"
      },
      "outputs": [],
      "source": [
        "from tensorflow.keras.datasets import mnist\n",
        "(X_train,y_train),(X_test,y_test) = mnist.load_data()"
      ]
    },
    {
      "cell_type": "code",
      "execution_count": 81,
      "metadata": {
        "colab": {
          "base_uri": "https://localhost:8080/",
          "height": 428
        },
        "id": "4wLyO5wGmOz6",
        "outputId": "12a11a91-1b2f-420d-d8d9-23c77d07274c"
      },
      "outputs": [
        {
          "data": {
            "image/png": "[encoded data removed]",
            "text/plain": [
              "<Figure size 640x480 with 9 Axes>"
            ]
          },
          "metadata": {},
          "output_type": "display_data"
        }
      ],
      "source": [
        "import matplotlib.pyplot as plt\n",
        "for i in range(1,10):\n",
        "  plt.subplot(3,3,i)\n",
        "  plt.imshow(X_train[i],cmap='gray')\n",
        "  plt.title(y_train[i])\n",
        "  plt.axis('off')"
      ]
    },
    {
      "cell_type": "code",
      "execution_count": 82,
      "metadata": {
        "id": "yYtNNzm-mX7M"
      },
      "outputs": [],
      "source": [
        "from sklearn.model_selection import train_test_split\n",
        "X_test,X_val,y_test,y_val = train_test_split(X_test,y_test,test_size=0.5)"
      ]
    },
    {
      "cell_type": "code",
      "execution_count": 83,
      "metadata": {
        "colab": {
          "base_uri": "https://localhost:8080/"
        },
        "id": "N1Z7-Ml6mu1c",
        "outputId": "adafc8c8-31fc-4a2f-caff-8c881e16293a"
      },
      "outputs": [
        {
          "name": "stdout",
          "output_type": "stream",
          "text": [
            "(60000, 28, 28, 1) (60000, 10)\n",
            "(5000, 28, 28, 1) (5000, 10)\n",
            "(5000, 28, 28, 1) (5000, 10)\n"
          ]
        }
      ],
      "source": [
        "X_train = X_train.astype('float32').reshape(X_train.shape[0],28,28,1)\n",
        "X_test = X_test.astype('float32').reshape(X_test.shape[0],28,28,1)\n",
        "X_val = X_val.astype('float32').reshape(X_val.shape[0],28,28,1)\n",
        "\n",
        "from tensorflow.keras.utils import to_categorical\n",
        "y_train = to_categorical(y_train,10)\n",
        "y_test = to_categorical(y_test,10)\n",
        "y_val = to_categorical(y_val,10)\n",
        "\n",
        "print(X_train.shape,y_train.shape)\n",
        "print(X_test.shape,y_test.shape)\n",
        "print(X_val.shape,y_val.shape)"
      ]
    },
    {
      "cell_type": "markdown",
      "metadata": {
        "id": "pmUiGaAhnsZD"
      },
      "source": [
        "# Combination 1 : No Aug Model, No Aug Test Data"
      ]
    },
    {
      "cell_type": "code",
      "execution_count": 84,
      "metadata": {
        "colab": {
          "base_uri": "https://localhost:8080/",
          "height": 393
        },
        "id": "_aKPexDXm2tt",
        "outputId": "2e78723e-5489-48a2-d728-13e261309a75"
      },
      "outputs": [
        {
          "name": "stdout",
          "output_type": "stream",
          "text": [
            "Model: \"model_8\"\n",
            "_________________________________________________________________\n",
            " Layer (type)                Output Shape              Param #   \n",
            "=================================================================\n",
            " input_5 (InputLayer)        [(None, 28, 28, 1)]       0         \n",
            "                                                                 \n",
            " conv2d_8 (Conv2D)           (None, 28, 28, 32)        320       \n",
            "                                                                 \n",
            " max_pooling2d_8 (MaxPooling  (None, 14, 14, 32)       0         \n",
            " 2D)                                                             \n",
            "                                                                 \n",
            " conv2d_9 (Conv2D)           (None, 14, 14, 64)        18496     \n",
            "                                                                 \n",
            " max_pooling2d_9 (MaxPooling  (None, 7, 7, 64)         0         \n",
            " 2D)                                                             \n",
            "                                                                 \n",
            " flatten_4 (Flatten)         (None, 3136)              0         \n",
            "                                                                 \n",
            " dense_8 (Dense)             (None, 64)                200768    \n",
            "                                                                 \n",
            " dense_9 (Dense)             (None, 10)                650       \n",
            "                                                                 \n",
            "=================================================================\n",
            "Total params: 220,234\n",
            "Trainable params: 220,234\n",
            "Non-trainable params: 0\n",
            "_________________________________________________________________\n"
          ]
        }
      ],
      "source": [
        "from tensorflow.keras.models import Model\n",
        "from tensorflow.keras.layers import Input,Dense,Conv2D,MaxPooling2D,Flatten,Dropout\n",
        "\n",
        "input = Input(shape=(28,28,1))\n",
        "x = Conv2D(filters=32, kernel_size=(3,3),strides=(1,1),padding='same',activation='relu')(input)\n",
        "x = MaxPooling2D()(x)\n",
        "x = Conv2D(filters=64, kernel_size=(3,3),strides=(1,1),padding='same',activation='relu')(x)\n",
        "x = MaxPooling2D()(x)\n",
        "x = Flatten()(x)\n",
        "x = Dense(64,activation='relu')(x)\n",
        "output = Dense(10,activation='softmax')(x)\n",
        "\n",
        "model = Model(input,output)\n",
        "aug_model = Model(input,output)\n",
        "\n",
        "model.summary()"
      ]
    },
    {
      "cell_type": "code",
      "execution_count": 85,
      "metadata": {
        "id": "HsJ87OJEpNEo"
      },
      "outputs": [],
      "source": [
        "from tensorflow.keras.callbacks import EarlyStopping\n",
        "callbacks = [EarlyStopping(monitor='val_loss',patience=2)]"
      ]
    },
    {
      "cell_type": "code",
      "execution_count": 86,
      "metadata": {
        "colab": {
          "base_uri": "https://localhost:8080/"
        },
        "id": "w7SAbzZMoOLk",
        "outputId": "8137a866-c281-4c3e-955a-0663d7bba29a"
      },
      "outputs": [
        {
          "name": "stdout",
          "output_type": "stream",
          "text": [
            "Epoch 1/10\n",
            "938/938 [==============================] - 3s 3ms/step - loss: 0.3631 - accuracy: 0.9290 - val_loss: 0.0660 - val_accuracy: 0.9774\n",
            "Epoch 2/10\n",
            "938/938 [==============================] - 2s 3ms/step - loss: 0.0633 - accuracy: 0.9802 - val_loss: 0.0564 - val_accuracy: 0.9832\n",
            "Epoch 3/10\n",
            "938/938 [==============================] - 3s 3ms/step - loss: 0.0450 - accuracy: 0.9858 - val_loss: 0.0664 - val_accuracy: 0.9818\n",
            "Epoch 4/10\n",
            "938/938 [==============================] - 3s 3ms/step - loss: 0.0354 - accuracy: 0.9891 - val_loss: 0.0587 - val_accuracy: 0.9828\n"
          ]
        }
      ],
      "source": [
        "model.compile(optimizer='adam',loss='categorical_crossentropy',metrics=['accuracy'])\n",
        "history = model.fit(X_train,y_train,validation_data=(X_val,y_val),epochs=10,batch_size=64,shuffle=True,callbacks=[callbacks])"
      ]
    },
    {
      "cell_type": "code",
      "execution_count": 87,
      "metadata": {
        "colab": {
          "base_uri": "https://localhost:8080/"
        },
        "id": "J96bdVCrpJHX",
        "outputId": "6de96900-b26c-44dc-c33c-04583989f79e"
      },
      "outputs": [
        {
          "name": "stdout",
          "output_type": "stream",
          "text": [
            "1875/1875 [==============================] - 3s 2ms/step - loss: 0.0255 - accuracy: 0.9915\n",
            "Training Accuracy :  [0.025468237698078156, 0.9915000200271606]\n",
            "157/157 [==============================] - 0s 2ms/step - loss: 0.0510 - accuracy: 0.9850\n",
            "Testing Accuracy :  [0.05102158337831497, 0.9850000143051147]\n",
            "157/157 [==============================] - 0s 2ms/step - loss: 0.0587 - accuracy: 0.9828\n",
            "Validation Accuracy :  [0.05867336317896843, 0.9828000068664551]\n"
          ]
        }
      ],
      "source": [
        "print(\"Training Accuracy : \",model.evaluate(X_train,y_train))\n",
        "print(\"Testing Accuracy : \",model.evaluate(X_test,y_test))\n",
        "print(\"Validation Accuracy : \", model.evaluate(X_val,y_val))"
      ]
    },
    {
      "cell_type": "markdown",
      "metadata": {
        "id": "xOJ1z0nEqpHs"
      },
      "source": [
        "Data Generator"
      ]
    },
    {
      "cell_type": "code",
      "execution_count": 88,
      "metadata": {
        "id": "3TBZs10GqDih"
      },
      "outputs": [],
      "source": [
        "from tensorflow.keras.preprocessing.image import ImageDataGenerator\n",
        "datagen = ImageDataGenerator(\n",
        "    rotation_range=10,\n",
        "    shear_range= 0.5,\n",
        "    zoom_range=0.7,\n",
        "    width_shift_range=0.25,\n",
        "    height_shift_range=0.4,\n",
        "    horizontal_flip=False,\n",
        "    vertical_flip=False,\n",
        ")"
      ]
    },
    {
      "cell_type": "markdown",
      "metadata": {
        "id": "6O_j_fYMqqmt"
      },
      "source": [
        "Show Augmented Images"
      ]
    },
    {
      "cell_type": "code",
      "execution_count": 89,
      "metadata": {
        "id": "cv5K2e9Qqno7"
      },
      "outputs": [],
      "source": [
        "train_data_generator = datagen.flow(X_train,y_train,batch_size=10)\n",
        "test_data_generator = datagen.flow(X_test,y_test,batch_size=10)\n",
        "val_data_generator = datagen.flow(X_val,y_val,batch_size=10)"
      ]
    },
    {
      "cell_type": "code",
      "execution_count": 90,
      "metadata": {
        "id": "a94gWicWq6Re"
      },
      "outputs": [],
      "source": [
        "X_train_augmented = []\n",
        "X_test_augmented = []\n",
        "\n",
        "\n",
        "y_train_augmented = []\n",
        "y_test_augmented = []"
      ]
    },
    {
      "cell_type": "code",
      "execution_count": 91,
      "metadata": {
        "colab": {
          "base_uri": "https://localhost:8080/"
        },
        "id": "nDFri7z4rtrq",
        "outputId": "a2fdaa19-3055-45b6-c11b-25819d7c3f02"
      },
      "outputs": [
        {
          "name": "stdout",
          "output_type": "stream",
          "text": [
            "Augmented Image Generator for Train :  (60000, 28, 28, 1) (60000, 10)\n"
          ]
        }
      ],
      "source": [
        "import numpy as np\n",
        "\n",
        "num_of_samples = 6000\n",
        "\n",
        "# Generated for Training\n",
        "for i in range(num_of_samples):\n",
        "  images,labels = next(train_data_generator)\n",
        "  X_train_augmented.append(images)\n",
        "  y_train_augmented.append(labels)\n",
        "\n",
        "X_train_augmented = np.concatenate(X_train_augmented)\n",
        "y_train_augmented = np.concatenate(y_train_augmented)\n",
        "\n",
        "\n",
        "print(\"Augmented Image Generator for Train : \",X_train_augmented.shape,y_train_augmented.shape)"
      ]
    },
    {
      "cell_type": "code",
      "execution_count": 92,
      "metadata": {
        "id": "1QB81sVlsKA6"
      },
      "outputs": [
        {
          "name": "stdout",
          "output_type": "stream",
          "text": [
            "Augmented Image Generator for Test :  (5000, 28, 28, 1) (5000, 10)\n"
          ]
        }
      ],
      "source": [
        "num_of_samples = 500\n",
        "\n",
        "# Generated for Training\n",
        "for i in range(num_of_samples):\n",
        "  images,labels = next(test_data_generator)\n",
        "  X_test_augmented.append(images)\n",
        "  y_test_augmented.append(labels)\n",
        "\n",
        "X_test_augmented = np.concatenate(X_test_augmented)\n",
        "y_test_augmented = np.concatenate(y_test_augmented)\n",
        "\n",
        "\n",
        "print(\"Augmented Image Generator for Test : \",X_test_augmented.shape,y_test_augmented.shape)"
      ]
    },
    {
      "cell_type": "markdown",
      "metadata": {},
      "source": [
        "# Display Augmented Data from Train Set"
      ]
    },
    {
      "cell_type": "code",
      "execution_count": 93,
      "metadata": {},
      "outputs": [
        {
          "data": {
            "image/png": "[encoded data removed]",
            "text/plain": [
              "<Figure size 640x480 with 9 Axes>"
            ]
          },
          "metadata": {},
          "output_type": "display_data"
        }
      ],
      "source": [
        "for i in range(1,10):\n",
        "    plt.subplot(3,3,i)\n",
        "    plt.imshow(X_train_augmented[i],cmap='grey')"
      ]
    },
    {
      "cell_type": "markdown",
      "metadata": {
        "id": "jog1j0wftgWW"
      },
      "source": [
        "# Merge Original 60,000 Train Images with 60,000 Augmented Image"
      ]
    },
    {
      "cell_type": "code",
      "execution_count": 94,
      "metadata": {
        "id": "mLpVaHG8tjH6"
      },
      "outputs": [],
      "source": [
        "X_train_augmented = np.concatenate((X_train,X_train_augmented))\n",
        "y_train_augmented = np.concatenate((y_train,y_train_augmented))"
      ]
    },
    {
      "cell_type": "markdown",
      "metadata": {
        "id": "3PM2kBtst078"
      },
      "source": [
        "# Merge Original 5,000 Test Images with 5000 Augmented Image"
      ]
    },
    {
      "cell_type": "code",
      "execution_count": 95,
      "metadata": {
        "id": "ZTi_EgZ4txMB"
      },
      "outputs": [],
      "source": [
        "X_test_augmented = np.concatenate((X_test,X_test_augmented))\n",
        "y_test_augmented = np.concatenate((y_test,y_test_augmented))"
      ]
    },
    {
      "cell_type": "code",
      "execution_count": 96,
      "metadata": {},
      "outputs": [
        {
          "name": "stdout",
          "output_type": "stream",
          "text": [
            "157/157 [==============================] - 1s 4ms/step - loss: 0.0510 - accuracy: 0.9850\n",
            "No Aug Model and No Aug Test Data :  [0.05102158337831497, 0.9850000143051147]\n",
            "313/313 [==============================] - 1s 2ms/step - loss: 2.6184 - accuracy: 0.6132\n",
            "No Aug Model and Aug Test Data :  [2.618440866470337, 0.6132000088691711]\n",
            "157/157 [==============================] - 0s 2ms/step - loss: 0.0510 - accuracy: 0.9850\n",
            "313/313 [==============================] - 1s 2ms/step - loss: 2.6184 - accuracy: 0.6132\n"
          ]
        }
      ],
      "source": [
        "print(\"No Aug Model and No Aug Test Data : \",model.evaluate(X_test,y_test))\n",
        "print(\"No Aug Model and Aug Test Data : \",model.evaluate(X_test_augmented,y_test_augmented))\n",
        "model_1_score = model.evaluate(X_test,y_test)\n",
        "model_2_score = model.evaluate(X_test_augmented,y_test_augmented)"
      ]
    },
    {
      "cell_type": "markdown",
      "metadata": {
        "id": "Mm6eJ1ExuFun"
      },
      "source": [
        "# Combination 2 : No Augmentation Model, But Augmented Test Data"
      ]
    },
    {
      "cell_type": "code",
      "execution_count": 97,
      "metadata": {
        "id": "l7B0wU7kuGRC"
      },
      "outputs": [
        {
          "name": "stdout",
          "output_type": "stream",
          "text": [
            "Epoch 1/100\n",
            "1875/1875 [==============================] - 5s 2ms/step - loss: 0.5316 - accuracy: 0.8247 - val_loss: 0.0582 - val_accuracy: 0.9822\n",
            "Epoch 2/100\n",
            "1875/1875 [==============================] - 4s 2ms/step - loss: 0.3205 - accuracy: 0.8944 - val_loss: 0.0459 - val_accuracy: 0.9850\n",
            "Epoch 3/100\n",
            "1875/1875 [==============================] - 4s 2ms/step - loss: 0.2616 - accuracy: 0.9126 - val_loss: 0.0525 - val_accuracy: 0.9856\n",
            "Epoch 4/100\n",
            "1875/1875 [==============================] - 4s 2ms/step - loss: 0.2255 - accuracy: 0.9246 - val_loss: 0.0467 - val_accuracy: 0.9868\n"
          ]
        }
      ],
      "source": [
        "aug_model.compile(optimizer='adam',loss='categorical_crossentropy',metrics=['accuracy'])\n",
        "aug_history = aug_model.fit(X_train_augmented,y_train_augmented,validation_data=(X_val,y_val),epochs=100,callbacks=[callbacks],batch_size=64)"
      ]
    },
    {
      "cell_type": "code",
      "execution_count": 98,
      "metadata": {},
      "outputs": [
        {
          "name": "stdout",
          "output_type": "stream",
          "text": [
            "157/157 [==============================] - 0s 2ms/step - loss: 0.0416 - accuracy: 0.9900\n",
            "AUG Test Accuracy with Non-Aug Test Data :  [0.041589248925447464, 0.9900000095367432]\n",
            "313/313 [==============================] - 1s 2ms/step - loss: 0.3415 - accuracy: 0.8936\n",
            "AUG Test Accuracy with Aug Test Data :  [0.3415338397026062, 0.8935999870300293]\n",
            "157/157 [==============================] - 0s 2ms/step - loss: 0.0416 - accuracy: 0.9900\n",
            "313/313 [==============================] - 1s 2ms/step - loss: 0.3415 - accuracy: 0.8936\n"
          ]
        }
      ],
      "source": [
        "print(\"AUG Test Accuracy with Non-Aug Test Data : \",aug_model.evaluate(X_test,y_test))\n",
        "print(\"AUG Test Accuracy with Aug Test Data : \",aug_model.evaluate(X_test_augmented,y_test_augmented))\n",
        "\n",
        "model_3_score = aug_model.evaluate(X_test,y_test)\n",
        "model_4_score = aug_model.evaluate(X_test_augmented,y_test_augmented)"
      ]
    },
    {
      "cell_type": "markdown",
      "metadata": {},
      "source": [
        "# Comparison"
      ]
    },
    {
      "cell_type": "code",
      "execution_count": 99,
      "metadata": {},
      "outputs": [
        {
          "name": "stdout",
          "output_type": "stream",
          "text": [
            "                                     Loss  Accuracy\n",
            "No Aug Model + No Aug Test Data  0.051022    0.9850\n",
            "No Aug Model + Aug Test Data     2.618441    0.6132\n",
            "Aug Model + No Aug Test Data     0.041589    0.9900\n",
            "Aug Model + Aug Test Data        0.341534    0.8936\n"
          ]
        }
      ],
      "source": [
        "categories = [\"No Aug Model + No Aug Test Data\", \n",
        "              \"No Aug Model + Aug Test Data\",\n",
        "              \"Aug Model + No Aug Test Data\", \n",
        "              \"Aug Model + Aug Test Data\" \n",
        "              ]\n",
        "\n",
        "values=[\n",
        "    model_1_score,\n",
        "    model_2_score,\n",
        "    model_3_score,\n",
        "    model_4_score\n",
        "    ]\n",
        "\n",
        "import pandas as pd\n",
        "df = pd.DataFrame(values,index=categories,columns=['Loss','Accuracy'])\n",
        "print(df)"
      ]
    },
    {
      "cell_type": "code",
      "execution_count": null,
      "metadata": {},
      "outputs": [],
      "source": []
    }
  ],
  "metadata": {
    "accelerator": "GPU",
    "colab": {
      "gpuType": "T4",
      "provenance": []
    },
    "kernelspec": {
      "display_name": "Python 3",
      "name": "python3"
    },
    "language_info": {
      "codemirror_mode": {
        "name": "ipython",
        "version": 3
      },
      "file_extension": ".py",
      "mimetype": "text/x-python",
      "name": "python",
      "nbconvert_exporter": "python",
      "pygments_lexer": "ipython3",
      "version": "3.9.13"
    }
  },
  "nbformat": 4,
  "nbformat_minor": 0
}
